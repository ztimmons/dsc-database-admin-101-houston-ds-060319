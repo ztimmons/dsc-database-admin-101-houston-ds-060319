{
 "cells": [
  {
   "cell_type": "markdown",
   "metadata": {},
   "source": [
    "# Database Admin 101\n",
    "\n",
    "## Introduction\n",
    "\n",
    "Now that you've seen how to access and retrieve information from a SQL database, let's investigate how you could create or alter an existing database. Although there is still much to learn, this will begin to lead you into the realm of database administration.\n",
    "\n",
    "## Objectives\n",
    "\n",
    "You will be able to:\n",
    "* Create a SQL database\n",
    "* Create a SQL table\n",
    "* Create rows in a SQL table\n",
    "* Alter entries in a SQL table\n",
    "* Delete entries in a SQL table\n",
    "* Commit changes via sqlite3"
   ]
  },
  {
   "cell_type": "markdown",
   "metadata": {},
   "source": [
    "## Previewing Files in the Current Working Directory\n",
    "\n",
    "Remember that you can use the bash `ls` command to preview files and folders in the current working directory. Run the cell below to do just that!"
   ]
  },
  {
   "cell_type": "code",
   "execution_count": 2,
   "metadata": {},
   "outputs": [
    {
     "name": "stdout",
     "output_type": "stream",
     "text": [
      "CONTRIBUTING.md  index.ipynb  LICENSE.md  pets_database.db  README.md\r\n"
     ]
    }
   ],
   "source": [
    "ls"
   ]
  },
  {
   "cell_type": "markdown",
   "metadata": {},
   "source": [
    "## Creating a Database\n",
    "\n",
    "You've seen how to connect to a database, but did you know creating one is just as easy? All you have to do is create a connection to a non-existent database, and viola! The database will be created simply by establishing a connection."
   ]
  },
  {
   "cell_type": "code",
   "execution_count": 3,
   "metadata": {},
   "outputs": [],
   "source": [
    "import sqlite3 \n",
    "conn = sqlite3.connect('pets_database.db')\n",
    "cur = conn.cursor()"
   ]
  },
  {
   "cell_type": "markdown",
   "metadata": {},
   "source": [
    "## Repreview Files\n",
    "\n",
    "If you use the `ls` command once again, you should now see the pets_database.db file there."
   ]
  },
  {
   "cell_type": "code",
   "execution_count": 4,
   "metadata": {},
   "outputs": [
    {
     "name": "stdout",
     "output_type": "stream",
     "text": [
      "CONTRIBUTING.md  index.ipynb  LICENSE.md  pets_database.db  README.md\r\n"
     ]
    }
   ],
   "source": [
    "ls"
   ]
  },
  {
   "cell_type": "markdown",
   "metadata": {},
   "source": [
    "## Creating Tables\n",
    "\n",
    "Now that you have a database, let's create our cats table along with id, name, age and breed columns. Remember that we use our cursor to execute these SQL statements, and that the statements must be wrapped in quotes ('''SQL statement goes here''' or \"\"\"SQL statement goes here\"\"\"). Indenting portions of your queries can also make them much easier to read and debug.\n",
    "\n",
    "```python\n",
    "cur.execute(\"\"\"CREATE TABLE cats (\n",
    "                                    id INTEGER PRIMARY KEY,\n",
    "                                    name TEXT,\n",
    "                                    age INTEGER,\n",
    "                                    breed TEXT\n",
    "                                 )\n",
    "            \"\"\"\n",
    "           )\n",
    "```"
   ]
  },
  {
   "cell_type": "code",
   "execution_count": 5,
   "metadata": {},
   "outputs": [
    {
     "ename": "OperationalError",
     "evalue": "table cats already exists",
     "output_type": "error",
     "traceback": [
      "\u001b[0;31m\u001b[0m",
      "\u001b[0;31mOperationalError\u001b[0mTraceback (most recent call last)",
      "\u001b[0;32m<ipython-input-5-fd4fc0afe2c0>\u001b[0m in \u001b[0;36m<module>\u001b[0;34m()\u001b[0m\n\u001b[1;32m      6\u001b[0m                                     \u001b[0mbreed\u001b[0m \u001b[0mTEXT\u001b[0m\u001b[0;34m\u001b[0m\u001b[0m\n\u001b[1;32m      7\u001b[0m                                  )\n\u001b[0;32m----> 8\u001b[0;31m             \"\"\"\n\u001b[0m\u001b[1;32m      9\u001b[0m            )\n",
      "\u001b[0;31mOperationalError\u001b[0m: table cats already exists"
     ]
    }
   ],
   "source": [
    "#Creating the cats table\n",
    "cur.execute(\"\"\"CREATE TABLE cats (\n",
    "                                    id INTEGER PRIMARY KEY,\n",
    "                                    name TEXT,\n",
    "                                    age INTEGER,\n",
    "                                    breed TEXT\n",
    "                                 )\n",
    "            \"\"\"\n",
    "           )"
   ]
  },
  {
   "cell_type": "markdown",
   "metadata": {},
   "source": [
    "## Populating Tables\n",
    "\n",
    "In order to populate a table, you can use the `INSERT INTO` command, followed by the name of the table to which we want to add data. Then, in parentheses, we put the column names that we will be filling with data. This is followed by the VALUES keyword, which is accompanied by a parentheses enclosed list of the values that correspond to each column name.\n",
    "\n",
    "Important: Note that you don't have to specify the \"id\" column name or value. Primary Key columns are auto-incrementing. Therefore, since the cats table has an \"id\" column whose type is INTEGER PRIMARY KEY, you don't have to specify the id column values when you insert data.  As long as you have defined an id column with a data type of INTEGER PRIMARY KEY, a newly inserted row's id column will be automatically given the correct value.\n",
    "\n",
    "Okay, let's start storing some cats.\n",
    "\n",
    "### Code Along I: INSERT INTO\n",
    "\n",
    "To insert a record with values, type the following:\n",
    "\n",
    "```python\n",
    "cur.execute('''INSERT INTO cats (name, age, breed) \n",
    "                  VALUES ('Maru', 3, 'Scottish Fold');\n",
    "            '''\n",
    "           )\n",
    "```"
   ]
  },
  {
   "cell_type": "code",
   "execution_count": 6,
   "metadata": {},
   "outputs": [
    {
     "data": {
      "text/plain": [
       "<sqlite3.Cursor at 0x7f100c0647a0>"
      ]
     },
     "execution_count": 6,
     "metadata": {},
     "output_type": "execute_result"
    }
   ],
   "source": [
    "# insert Maru into the pet_database.db here\n",
    "cur.execute('''INSERT INTO cats (name, age, breed) \n",
    "                  VALUES ('Maru', 3, 'Scottish Fold');\n",
    "            '''\n",
    "           )"
   ]
  },
  {
   "cell_type": "markdown",
   "metadata": {},
   "source": [
    "## Altering a Table\n",
    "\n",
    "You can also update a table like this: cursor.execute('''ALTER TABLE cats ADD COLUMN notes text;''')\n",
    "\n",
    "The general pattern is `ALTER TABLE table_name ADD COLUMN column_name column_type;`"
   ]
  },
  {
   "cell_type": "markdown",
   "metadata": {},
   "source": [
    "## Updating Data\n",
    "\n",
    "You use UPDATE keyword to change prexisting rows within a table.\n",
    "\n",
    "The UPDATE statement uses a WHERE clause to grab the row you want to update. It identifies the table name you are looking in and resets the data in a particular column to a new value.\n",
    "\n",
    "A boilerplate UPDATE statement looks like this:\n",
    "\n",
    "```python\n",
    "cur.execute('''UPDATE [table name] \n",
    "                  SET [column name] = [new value]\n",
    "                  WHERE [column name] = [value];\n",
    "               '''\n",
    "              )\n",
    "```\n",
    "\n",
    "### Code Along II: UPDATE\n",
    "\n",
    "Let's update one of our cats. Turns out Maru's friend Hannah is actually Maru's friend Hana. Let's update that row to change the name to the correct spelling:\n",
    "\n",
    "```python\n",
    "cur.execute('''UPDATE cats SET name = \"Hana\" WHERE name = \"Hannah\";''')\n",
    "```"
   ]
  },
  {
   "cell_type": "code",
   "execution_count": 7,
   "metadata": {},
   "outputs": [
    {
     "data": {
      "text/plain": [
       "<sqlite3.Cursor at 0x7f100c0647a0>"
      ]
     },
     "execution_count": 7,
     "metadata": {},
     "output_type": "execute_result"
    }
   ],
   "source": [
    "# update hannah here\n",
    "cur.execute('''UPDATE cats SET name = \"Hana\" WHERE name = \"Hannah\";''')"
   ]
  },
  {
   "cell_type": "markdown",
   "metadata": {},
   "source": [
    "## Deleting Data\n",
    "\n",
    "You use the DELETE keyword to delete table rows.\n",
    "\n",
    "Similar to the UPDATE keyword, the delte keyword uses a where clause to select rows. \n",
    "\n",
    "A boilerplate DELETE statement looks like this:\n",
    "\n",
    "```python\n",
    "cur.execute('''DELETE FROM [table name] WHERE [column name] = [value];''')\n",
    "```\n",
    "\n",
    "### Code Along III: DELETE\n",
    "\n",
    "Let's go ahead and delete Lil' Bub from our cats table (sorry Lil' Bub):\n",
    "\n",
    "```python\n",
    "cur.execute('''DELETE FROM cats WHERE id = 2;''')\n",
    "```\n"
   ]
  },
  {
   "cell_type": "code",
   "execution_count": 8,
   "metadata": {},
   "outputs": [
    {
     "data": {
      "text/plain": [
       "<sqlite3.Cursor at 0x7f100c0647a0>"
      ]
     },
     "execution_count": 8,
     "metadata": {},
     "output_type": "execute_result"
    }
   ],
   "source": [
    "# DELETE record with id=2 here\n",
    "cur.execute('''DELETE FROM cats WHERE id = 2;''')"
   ]
  },
  {
   "cell_type": "markdown",
   "metadata": {},
   "source": [
    "Notice that this time we selected the row to delete using the Primary Key column. Remember that every table row has a Primary Key column that is unique. Lil' Bub was the second row in the database and thus had an id of 2."
   ]
  },
  {
   "cell_type": "markdown",
   "metadata": {},
   "source": [
    "## Saving Changes\n",
    "\n",
    "While everything may look well and good, if you were to connect to the Database from another jupyter notebook (or elsewhere) the database would appear blank! That is, while the changes are reflected in your current session connection to the database you have yet to commit those changes to the master database so that other users and connections can also view the updates.  \n",
    "\n",
    "Before you commit the changes, let's demonstrate this concept.\n",
    "\n",
    "First, preview the results of the table:\n",
    "\n",
    "```python\n",
    "cur.execute(\"\"\"select * from cats;\"\"\").fetchall()\n",
    "```"
   ]
  },
  {
   "cell_type": "code",
   "execution_count": 9,
   "metadata": {},
   "outputs": [
    {
     "data": {
      "text/plain": [
       "[(1, 'Maru', 3, 'Scottish Fold')]"
      ]
     },
     "execution_count": 9,
     "metadata": {},
     "output_type": "execute_result"
    }
   ],
   "source": [
    "#Preview the table via the current cursor/connection\n",
    "cur.execute(\"\"\"select * from cats;\"\"\").fetchall()"
   ]
  },
  {
   "cell_type": "markdown",
   "metadata": {},
   "source": [
    "Now, to demonstrate that these changes aren't reflected to other connections to the database create a 2nd connection/ cursor and run the same preview:\n",
    "\n",
    "```python\n",
    "conn2 = sqlite3.connect('pets_database.db')\n",
    "cur2 = conn2.cursor()\n",
    "cur2.execute(\"\"\"select * from cats;\"\"\").fetchall()\n",
    "```"
   ]
  },
  {
   "cell_type": "code",
   "execution_count": 10,
   "metadata": {},
   "outputs": [
    {
     "data": {
      "text/plain": [
       "[]"
      ]
     },
     "execution_count": 10,
     "metadata": {},
     "output_type": "execute_result"
    }
   ],
   "source": [
    "#Preview the table via a second current cursor/connection \n",
    "#Don't overwrite the previous connection: you'll lose all of your work!\n",
    "conn2 = sqlite3.connect('pets_database.db')\n",
    "cur2 = conn2.cursor()\n",
    "cur2.execute(\"\"\"select * from cats;\"\"\").fetchall()"
   ]
  },
  {
   "cell_type": "markdown",
   "metadata": {},
   "source": [
    "As you can see, the second connection doesn't currently display any data in the cats table! To make the changes universally accessible commit the changes.\n",
    "\n",
    "In this case:\n",
    "\n",
    "```python\n",
    "conn.commit()\n",
    "```"
   ]
  },
  {
   "cell_type": "code",
   "execution_count": 11,
   "metadata": {},
   "outputs": [],
   "source": [
    "# Commit your changes to the databaase\n",
    "conn.commit()"
   ]
  },
  {
   "cell_type": "markdown",
   "metadata": {},
   "source": [
    "Now, if you reload your second connection, you should see the updates reflected in the data!\n",
    "\n",
    "```python\n",
    "conn2 = sqlite3.connect('pets_database.db')\n",
    "cur2 = conn2.cursor()\n",
    "cur2.execute(\"\"\"select * from cats;\"\"\").fetchall()\n",
    "```"
   ]
  },
  {
   "cell_type": "code",
   "execution_count": 11,
   "metadata": {},
   "outputs": [
    {
     "data": {
      "text/plain": [
       "[(1, 'Maru', 3, 'Scottish Fold')]"
      ]
     },
     "execution_count": 11,
     "metadata": {},
     "output_type": "execute_result"
    }
   ],
   "source": [
    "#Preview the table via a reloaded second current cursor/connection \n",
    "conn2 = sqlite3.connect('pets_database.db')\n",
    "cur2 = conn2.cursor()\n",
    "cur2.execute(\"\"\"select * from cats;\"\"\").fetchall()"
   ]
  },
  {
   "cell_type": "markdown",
   "metadata": {},
   "source": [
    "## Summary\n",
    "\n",
    "Congrats! In this lesson, you saw how to create, edit and delete tables and databases using SQL!"
   ]
  }
 ],
 "metadata": {
  "kernelspec": {
   "display_name": "Python 3",
   "language": "python",
   "name": "python3"
  },
  "language_info": {
   "codemirror_mode": {
    "name": "ipython",
    "version": 3
   },
   "file_extension": ".py",
   "mimetype": "text/x-python",
   "name": "python",
   "nbconvert_exporter": "python",
   "pygments_lexer": "ipython3",
   "version": "3.6.6"
  }
 },
 "nbformat": 4,
 "nbformat_minor": 2
}
